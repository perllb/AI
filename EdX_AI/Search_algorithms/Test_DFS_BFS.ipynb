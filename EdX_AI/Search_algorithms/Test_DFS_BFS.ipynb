{
 "cells": [
  {
   "cell_type": "code",
   "execution_count": 94,
   "metadata": {
    "collapsed": true
   },
   "outputs": [],
   "source": [
    "import queue\n",
    "\n",
    "import time\n",
    "\n",
    "import resource\n",
    "\n",
    "import sys\n",
    "\n",
    "import math\n",
    "\n",
    "from heapq import *"
   ]
  },
  {
   "cell_type": "code",
   "execution_count": 7,
   "metadata": {
    "collapsed": true
   },
   "outputs": [],
   "source": [
    "class PuzzleState(object):\n",
    "\n",
    "    \"\"\"docstring for PuzzleState\"\"\"\n",
    "\n",
    "    def __init__(self, config, n, parent=None, action=\"Initial\", cost=0):\n",
    "\n",
    "        if n*n != len(config) or n < 2:\n",
    "\n",
    "            raise Exception(\"the length of config is not correct!\")\n",
    "\n",
    "        self.n = n\n",
    "\n",
    "        self.cost = cost\n",
    "\n",
    "        self.parent = parent\n",
    "\n",
    "        self.action = action\n",
    "\n",
    "        self.dimension = n\n",
    "\n",
    "        self.config = config\n",
    "\n",
    "        self.children = []\n",
    "\n",
    "        for i, item in enumerate(self.config):\n",
    "\n",
    "            if item == 0:\n",
    "\n",
    "                self.blank_row = int(i / self.n)\n",
    "\n",
    "                self.blank_col = i % self.n\n",
    "\n",
    "                break\n",
    "\n",
    "    def display(self):\n",
    "\n",
    "        for i in range(self.n):\n",
    "\n",
    "            line = []\n",
    "\n",
    "            offset = i * self.n\n",
    "\n",
    "            for j in range(self.n):\n",
    "\n",
    "                line.append(self.config[offset + j])\n",
    "\n",
    "            print(line)\n",
    "\n",
    "    def move_left(self):\n",
    "\n",
    "        if self.blank_col == 0:\n",
    "\n",
    "            return None\n",
    "\n",
    "        else:\n",
    "\n",
    "            blank_index = self.blank_row * self.n + self.blank_col\n",
    "\n",
    "            target = blank_index - 1\n",
    "\n",
    "            new_config = list(self.config)\n",
    "\n",
    "            new_config[blank_index], new_config[target] = new_config[target], new_config[blank_index]\n",
    "\n",
    "            return PuzzleState(tuple(new_config), self.n, parent=self, action=\"Left\", cost=self.cost + 1)\n",
    "\n",
    "    def move_right(self):\n",
    "\n",
    "        if self.blank_col == self.n - 1:\n",
    "\n",
    "            return None\n",
    "\n",
    "        else:\n",
    "\n",
    "            blank_index = self.blank_row * self.n + self.blank_col\n",
    "\n",
    "            target = blank_index + 1\n",
    "\n",
    "            new_config = list(self.config)\n",
    "\n",
    "            new_config[blank_index], new_config[target] = new_config[target], new_config[blank_index]\n",
    "\n",
    "            return PuzzleState(tuple(new_config), self.n, parent=self, action=\"Right\", cost=self.cost + 1)\n",
    "\n",
    "    def move_up(self):\n",
    "\n",
    "        if self.blank_row == 0:\n",
    "\n",
    "            return None\n",
    "\n",
    "        else:\n",
    "\n",
    "            blank_index = self.blank_row * self.n + self.blank_col\n",
    "\n",
    "            target = blank_index - self.n\n",
    "\n",
    "            new_config = list(self.config)\n",
    "\n",
    "            new_config[blank_index], new_config[target] = new_config[target], new_config[blank_index]\n",
    "\n",
    "            return PuzzleState(tuple(new_config), self.n, parent=self, action=\"Up\", cost=self.cost + 1)\n",
    "\n",
    "    def move_down(self):\n",
    "\n",
    "        if self.blank_row == self.n - 1:\n",
    "\n",
    "            return None\n",
    "\n",
    "        else:\n",
    "\n",
    "            blank_index = self.blank_row * self.n + self.blank_col\n",
    "\n",
    "            target = blank_index + self.n\n",
    "\n",
    "            new_config = list(self.config)\n",
    "\n",
    "            new_config[blank_index], new_config[target] = new_config[target], new_config[blank_index]\n",
    "\n",
    "            return PuzzleState(tuple(new_config), self.n, parent=self, action=\"Down\", cost=self.cost + 1)\n",
    "\n",
    "    def expand(self):\n",
    "\n",
    "        \"\"\"expand the node\"\"\"\n",
    "\n",
    "        # add child nodes in order of UDLR\n",
    "\n",
    "        if len(self.children) == 0:\n",
    "\n",
    "            up_child = self.move_up()\n",
    "\n",
    "            if up_child is not None:\n",
    "\n",
    "                self.children.append(up_child)\n",
    "\n",
    "            down_child = self.move_down()\n",
    "\n",
    "            if down_child is not None:\n",
    "\n",
    "                self.children.append(down_child)\n",
    "\n",
    "            left_child = self.move_left()\n",
    "\n",
    "            if left_child is not None:\n",
    "\n",
    "                self.children.append(left_child)\n",
    "\n",
    "            right_child = self.move_right()\n",
    "\n",
    "            if right_child is not None:\n",
    "\n",
    "                self.children.append(right_child)\n",
    "\n",
    "        return self.children"
   ]
  },
  {
   "cell_type": "code",
   "execution_count": 8,
   "metadata": {
    "collapsed": true
   },
   "outputs": [],
   "source": [
    "def test_goal(puzzle_state):\n",
    "\n",
    "    \"\"\"test the state is the goal state or not\"\"\"\n",
    "\n",
    "    # define goal states\n",
    "    goal = []\n",
    "\n",
    "    for i in range(puzzle_state.n*puzzle_state.n):\n",
    "        goal.append(i)\n",
    "\n",
    "    if puzzle_state.config == tuple(goal):\n",
    "\n",
    "        return True\n",
    "\n",
    "    else:\n",
    "\n",
    "        return False"
   ]
  },
  {
   "cell_type": "code",
   "execution_count": 19,
   "metadata": {
    "collapsed": true
   },
   "outputs": [],
   "source": [
    "def bfs_search(initial_state):\n",
    "\n",
    "    \"\"\"BFS search\"\"\"\n",
    "\n",
    "    # make list of visited states\n",
    "    visited = list()\n",
    "    visQue = list()\n",
    "\n",
    "    print(\"Visited: \",visited)\n",
    "\n",
    "    # queue of PuzzleStates\n",
    "    q = queue.Queue()\n",
    "\n",
    "    # add initial State\n",
    "    s = hard_state\n",
    "\n",
    "    print(\"Initial state: \",s.display())\n",
    "\n",
    "    visited.append(\"\".join(map(str,s.config)))\n",
    "    visQue.append(\"\".join(map(str,s.config)))\n",
    "    print(\"Visited: \",visited)\n",
    "\n",
    "    q.put(s)\n",
    "   \n",
    "    print(\"Entering loop...\")\n",
    "    \n",
    "    found = False\n",
    "    \n",
    "    print(\"\\n###############\\nEntering: \",s.config)\n",
    "\n",
    "    while not q.empty or not found:\n",
    "\n",
    "            # Get first added state\n",
    "            print(\"Visited before entering: \",visited)\n",
    "            print(\"Queue before entering: \",visQue)\n",
    "            \n",
    "            curr = q.get()\n",
    "            visQue.pop(0)\n",
    "            print(\"Current State Conf: \")\n",
    "            curr.display()\n",
    "\n",
    "            # Check state to goal\n",
    "            if test_goal(curr):\n",
    "\n",
    "                print(\"Goal!: \\nCurrent state: \",curr.config)\n",
    "\n",
    "                found = True \n",
    "                \n",
    "            else:\n",
    "\n",
    "                print(\"\\n###############\\nExpanding: \",curr.config)\n",
    "\n",
    "                for child in curr.expand():\n",
    "\n",
    "                    if \"\".join(map(str,child.config)) not in visited:\n",
    "\n",
    "                        q.put(child)\n",
    "                        visQue.append(\"\".join(map(str,child.config)))\n",
    "\n",
    "                        print(\"Visiting: \",child.config)\n",
    "\n",
    "                        visited.append(\"\".join(map(str,child.config)))\n",
    "\n",
    "                    else:\n",
    "\n",
    "                        print(\"Already visited: \",child.config)\n",
    "\n",
    "    print(\"######### Winner ##########\\n         \",curr.config)\n",
    "\n",
    "    return curr"
   ]
  },
  {
   "cell_type": "code",
   "execution_count": 20,
   "metadata": {
    "collapsed": true
   },
   "outputs": [],
   "source": [
    "def dfs_search(initial_state):\n",
    "\n",
    "    \"\"\"BFS search\"\"\"\n",
    "\n",
    "    # make list of visited states\n",
    "    visited = list()\n",
    "    visQue = list()\n",
    "\n",
    "    print(\"Visited: \",visited)\n",
    "\n",
    "    # queue of PuzzleStates\n",
    "    q = queue.LifoQueue()\n",
    "\n",
    "\n",
    "    # add initial State\n",
    "    s = hard_state\n",
    "\n",
    "    print(\"Initial state: \",s.display())\n",
    "\n",
    "    visited.append(\"\".join(map(str,s.config)))\n",
    "    visQue.append(\"\".join(map(str,s.config)))\n",
    "    print(\"Visited: \",visited)\n",
    "\n",
    "    q.put(s)\n",
    "   \n",
    "    print(\"Entering loop...\")\n",
    "    \n",
    "    found = False\n",
    "    \n",
    "    print(\"\\n###############\\nEntering: \",s.config)\n",
    "\n",
    "    while not q.empty or not found:\n",
    "\n",
    "            # Get first added state\n",
    "            print(\"Visited before entering: \",visited)\n",
    "            print(\"Queue before entering: \",visQue)\n",
    "            \n",
    "            curr = q.get()\n",
    "            visQue.pop(0)\n",
    "            print(\"Current State Conf: \")\n",
    "            curr.display()\n",
    "\n",
    "            # Check state to goal\n",
    "            if test_goal(curr):\n",
    "\n",
    "                print(\"Goal!: \\nCurrent state: \",curr.config)\n",
    "\n",
    "                found = True \n",
    "                \n",
    "            else:\n",
    "\n",
    "                print(\"\\n###############\\nExpanding: \",curr.config)\n",
    "\n",
    "                for child in curr.expand():\n",
    "\n",
    "                    if \"\".join(map(str,child.config)) not in visited:\n",
    "\n",
    "                        q.put(child)\n",
    "                        visQue.append(\"\".join(map(str,child.config)))\n",
    "\n",
    "                        print(\"Visiting: \",child.config)\n",
    "\n",
    "                        visited.append(\"\".join(map(str,child.config)))\n",
    "\n",
    "                    else:\n",
    "\n",
    "                        print(\"Already visited: \",child.config)\n",
    "\n",
    "    print(\"######### Winner ##########\\n         \",curr.config)\n",
    "\n",
    "    return curr"
   ]
  },
  {
   "cell_type": "code",
   "execution_count": 21,
   "metadata": {
    "collapsed": true
   },
   "outputs": [],
   "source": [
    "begin_state = [0,3,1,2]\n",
    "begin_state = tuple(map(int, begin_state))\n",
    "size = int(math.sqrt(len(begin_state)))\n",
    "hard_state = PuzzleState(begin_state, size)"
   ]
  },
  {
   "cell_type": "code",
   "execution_count": 22,
   "metadata": {},
   "outputs": [
    {
     "name": "stdout",
     "output_type": "stream",
     "text": [
      "Visited:  []\n",
      "[0, 3]\n",
      "[1, 2]\n",
      "Initial state:  None\n",
      "Visited:  ['0312']\n",
      "Entering loop...\n",
      "\n",
      "###############\n",
      "Entering:  (0, 3, 1, 2)\n",
      "Visited before entering:  ['0312']\n",
      "Queue before entering:  ['0312']\n",
      "Current State Conf: \n",
      "[0, 3]\n",
      "[1, 2]\n",
      "\n",
      "###############\n",
      "Expanding:  (0, 3, 1, 2)\n",
      "Visiting:  (1, 3, 0, 2)\n",
      "Visiting:  (3, 0, 1, 2)\n",
      "Visited before entering:  ['0312', '1302', '3012']\n",
      "Queue before entering:  ['1302', '3012']\n",
      "Current State Conf: \n",
      "[3, 0]\n",
      "[1, 2]\n",
      "\n",
      "###############\n",
      "Expanding:  (3, 0, 1, 2)\n",
      "Visiting:  (3, 2, 1, 0)\n",
      "Already visited:  (0, 3, 1, 2)\n",
      "Visited before entering:  ['0312', '1302', '3012', '3210']\n",
      "Queue before entering:  ['3012', '3210']\n",
      "Current State Conf: \n",
      "[3, 2]\n",
      "[1, 0]\n",
      "\n",
      "###############\n",
      "Expanding:  (3, 2, 1, 0)\n",
      "Already visited:  (3, 0, 1, 2)\n",
      "Visiting:  (3, 2, 0, 1)\n",
      "Visited before entering:  ['0312', '1302', '3012', '3210', '3201']\n",
      "Queue before entering:  ['3210', '3201']\n",
      "Current State Conf: \n",
      "[3, 2]\n",
      "[0, 1]\n",
      "\n",
      "###############\n",
      "Expanding:  (3, 2, 0, 1)\n",
      "Visiting:  (0, 2, 3, 1)\n",
      "Already visited:  (3, 2, 1, 0)\n",
      "Visited before entering:  ['0312', '1302', '3012', '3210', '3201', '0231']\n",
      "Queue before entering:  ['3201', '0231']\n",
      "Current State Conf: \n",
      "[0, 2]\n",
      "[3, 1]\n",
      "\n",
      "###############\n",
      "Expanding:  (0, 2, 3, 1)\n",
      "Already visited:  (3, 2, 0, 1)\n",
      "Visiting:  (2, 0, 3, 1)\n",
      "Visited before entering:  ['0312', '1302', '3012', '3210', '3201', '0231', '2031']\n",
      "Queue before entering:  ['0231', '2031']\n",
      "Current State Conf: \n",
      "[2, 0]\n",
      "[3, 1]\n",
      "\n",
      "###############\n",
      "Expanding:  (2, 0, 3, 1)\n",
      "Visiting:  (2, 1, 3, 0)\n",
      "Already visited:  (0, 2, 3, 1)\n",
      "Visited before entering:  ['0312', '1302', '3012', '3210', '3201', '0231', '2031', '2130']\n",
      "Queue before entering:  ['2031', '2130']\n",
      "Current State Conf: \n",
      "[2, 1]\n",
      "[3, 0]\n",
      "\n",
      "###############\n",
      "Expanding:  (2, 1, 3, 0)\n",
      "Already visited:  (2, 0, 3, 1)\n",
      "Visiting:  (2, 1, 0, 3)\n",
      "Visited before entering:  ['0312', '1302', '3012', '3210', '3201', '0231', '2031', '2130', '2103']\n",
      "Queue before entering:  ['2130', '2103']\n",
      "Current State Conf: \n",
      "[2, 1]\n",
      "[0, 3]\n",
      "\n",
      "###############\n",
      "Expanding:  (2, 1, 0, 3)\n",
      "Visiting:  (0, 1, 2, 3)\n",
      "Already visited:  (2, 1, 3, 0)\n",
      "Visited before entering:  ['0312', '1302', '3012', '3210', '3201', '0231', '2031', '2130', '2103', '0123']\n",
      "Queue before entering:  ['2103', '0123']\n",
      "Current State Conf: \n",
      "[0, 1]\n",
      "[2, 3]\n",
      "Goal!: \n",
      "Current state:  (0, 1, 2, 3)\n",
      "######### Winner ##########\n",
      "          (0, 1, 2, 3)\n"
     ]
    }
   ],
   "source": [
    "curr = dfs_search(hard_state)"
   ]
  },
  {
   "cell_type": "code",
   "execution_count": null,
   "metadata": {
    "collapsed": true
   },
   "outputs": [],
   "source": []
  },
  {
   "cell_type": "code",
   "execution_count": 13,
   "metadata": {
    "collapsed": true
   },
   "outputs": [],
   "source": [
    "def writeOutput(state):\n",
    "\n",
    "    actions = list()\n",
    "    \n",
    "    curr = state\n",
    "    \n",
    "    while curr.parent is not None:\n",
    "        \n",
    "        actions.append(curr.action)\n",
    "\n",
    "        curr = curr.parent\n",
    "        \n",
    "    print(actions)\n",
    "        "
   ]
  },
  {
   "cell_type": "code",
   "execution_count": 14,
   "metadata": {},
   "outputs": [
    {
     "ename": "NameError",
     "evalue": "name 'curr' is not defined",
     "output_type": "error",
     "traceback": [
      "\u001b[0;31m---------------------------------------------------------------------------\u001b[0m",
      "\u001b[0;31mNameError\u001b[0m                                 Traceback (most recent call last)",
      "\u001b[0;32m<ipython-input-14-0a840a8a9e42>\u001b[0m in \u001b[0;36m<module>\u001b[0;34m()\u001b[0m\n\u001b[0;32m----> 1\u001b[0;31m \u001b[0mwriteOutput\u001b[0m\u001b[0;34m(\u001b[0m\u001b[0mcurr\u001b[0m\u001b[0;34m)\u001b[0m\u001b[0;34m\u001b[0m\u001b[0m\n\u001b[0m",
      "\u001b[0;31mNameError\u001b[0m: name 'curr' is not defined"
     ]
    }
   ],
   "source": [
    "writeOutput(curr)"
   ]
  },
  {
   "cell_type": "code",
   "execution_count": null,
   "metadata": {
    "collapsed": true
   },
   "outputs": [],
   "source": [
    "def calculate_manhattan_dist(conf, n):\n",
    "\n",
    "    \"\"\"calculate the manhattan distance of a tile\"\"\"\n",
    "\n",
    "    # define goal states\n",
    "    goal = []\n",
    "\n",
    "    for i in range(puzzle_state.n*puzzle_state.n):\n",
    "        goal.append(i)\n",
    "        \n",
    "    total_dist = int()\n",
    "\n",
    "    for i in range(n*n):\n",
    "\n",
    "        a = conf[i]\n",
    "        a_col = i % n\n",
    "        a_row = int(i/n)\n",
    "\n",
    "        b_col = goal.index(a) % n\n",
    "        b_row = int(goal.index(a) / n)\n",
    "\n",
    "        dist = abs(b_col - a_col) + abs(b_row - a_row)\n",
    "\n",
    "        print(\"=======\")\n",
    "        print(\"A current: \", a)\n",
    "        print(\"col: \",a_col)\n",
    "        print(\"row: \",a_row)\n",
    "\n",
    "        print(\"index in goal: \", goal.index(a))\n",
    "        print(\"B col: \",b_col)\n",
    "        print(\"B row: \",b_row)\n",
    "\n",
    "        print(\"Distance: \", dist)\n",
    "\n",
    "        total_dist+=dist\n",
    "\n",
    "    print(\"Total distance: \", total_dist)\n"
   ]
  },
  {
   "cell_type": "code",
   "execution_count": null,
   "metadata": {
    "collapsed": true
   },
   "outputs": [],
   "source": []
  },
  {
   "cell_type": "code",
   "execution_count": 33,
   "metadata": {},
   "outputs": [
    {
     "name": "stdout",
     "output_type": "stream",
     "text": [
      "(0, 3, 1, 2)\n",
      "(0, 1, 2, 3)\n"
     ]
    }
   ],
   "source": [
    "conf = hard_state.config\n",
    "goal = (0,1,2,3)\n",
    "print(conf)\n",
    "print(goal)\n",
    "\n",
    "n = 2"
   ]
  },
  {
   "cell_type": "code",
   "execution_count": 42,
   "metadata": {},
   "outputs": [
    {
     "name": "stdout",
     "output_type": "stream",
     "text": [
      "=======\n",
      "A current:  0\n",
      "col:  0\n",
      "row:  0\n",
      "index in goal:  0\n",
      "B col:  0\n",
      "B row:  0\n",
      "Distance:  0\n",
      "=======\n",
      "A current:  3\n",
      "col:  1\n",
      "row:  0\n",
      "index in goal:  3\n",
      "B col:  1\n",
      "B row:  1\n",
      "Distance:  1\n",
      "=======\n",
      "A current:  1\n",
      "col:  0\n",
      "row:  1\n",
      "index in goal:  1\n",
      "B col:  1\n",
      "B row:  0\n",
      "Distance:  2\n",
      "=======\n",
      "A current:  2\n",
      "col:  1\n",
      "row:  1\n",
      "index in goal:  2\n",
      "B col:  0\n",
      "B row:  1\n",
      "Distance:  1\n",
      "Total distance:  4\n"
     ]
    }
   ],
   "source": [
    "total_dist = int()\n",
    "\n",
    "for i in range(4):\n",
    "    \n",
    "    a = conf[i]\n",
    "    a_col = i % n\n",
    "    a_row = int(i/n)\n",
    "\n",
    "    b_col = goal.index(a) % n\n",
    "    b_row = int(goal.index(a) / n)\n",
    "    \n",
    "    dist = abs(b_col - a_col) + abs(b_row - a_row)\n",
    "    \n",
    "    print(\"=======\")\n",
    "    print(\"A current: \", a)\n",
    "    print(\"col: \",a_col)\n",
    "    print(\"row: \",a_row)\n",
    "\n",
    "    print(\"index in goal: \", goal.index(a))\n",
    "    print(\"B col: \",b_col)\n",
    "    print(\"B row: \",b_row)\n",
    "    \n",
    "    print(\"Distance: \", dist)\n",
    "\n",
    "    total_dist+=dist\n",
    "    \n",
    "print(\"Total distance: \", total_dist)\n",
    "    "
   ]
  },
  {
   "cell_type": "code",
   "execution_count": null,
   "metadata": {
    "collapsed": true
   },
   "outputs": [],
   "source": []
  },
  {
   "cell_type": "code",
   "execution_count": null,
   "metadata": {
    "collapsed": true
   },
   "outputs": [],
   "source": []
  },
  {
   "cell_type": "code",
   "execution_count": null,
   "metadata": {
    "collapsed": true
   },
   "outputs": [],
   "source": []
  },
  {
   "cell_type": "code",
   "execution_count": 49,
   "metadata": {
    "collapsed": true
   },
   "outputs": [],
   "source": [
    "def calculate_manhattan_dist(conf, n):\n",
    "\n",
    "    \"\"\"calculate the manhattan distance of a tile\"\"\"\n",
    "\n",
    "    # define goal states\n",
    "    goal = []\n",
    "\n",
    "    for i in range(len(conf)*len(conf)):\n",
    "        goal.append(i)\n",
    "\n",
    "    total_dist = int()\n",
    "\n",
    "    for i in range(n*n):\n",
    "\n",
    "        a = conf[i]\n",
    "        a_col = i % n\n",
    "        a_row = int(i/n)\n",
    "\n",
    "        b_col = goal.index(a) % n\n",
    "        b_row = int(goal.index(a) / n)\n",
    "\n",
    "        dist = abs(b_col - a_col) + abs(b_row - a_row)\n",
    "\n",
    "        total_dist+=dist\n",
    "\n",
    "    return(total_dist)"
   ]
  },
  {
   "cell_type": "code",
   "execution_count": 115,
   "metadata": {},
   "outputs": [],
   "source": [
    "\n",
    "\n",
    "heap = []\n",
    "\n",
    "heappush(heap, (2,hard_state))\n",
    "heappush(heap, (4,hard_state))\n",
    "heappush(heap, (5,hard_state))\n",
    "heappush(heap, (21235,hard_state))\n",
    "heappush(heap, (332,hard_state))"
   ]
  },
  {
   "cell_type": "code",
   "execution_count": 114,
   "metadata": {},
   "outputs": [
    {
     "name": "stdout",
     "output_type": "stream",
     "text": [
      "(2, <__main__.PuzzleState object at 0x108494748>)\n",
      "(4, <__main__.PuzzleState object at 0x108494748>)\n",
      "(5, <__main__.PuzzleState object at 0x108494748>)\n",
      "(332, <__main__.PuzzleState object at 0x108494748>)\n",
      "(21235, <__main__.PuzzleState object at 0x108494748>)\n"
     ]
    }
   ],
   "source": [
    "\n",
    "\n",
    "print(heappop(heap))\n",
    "print(heappop(heap))\n",
    "print(heappop(heap))\n",
    "print(heappop(heap))\n",
    "print(heappop(heap))"
   ]
  },
  {
   "cell_type": "code",
   "execution_count": 124,
   "metadata": {},
   "outputs": [],
   "source": [
    "pq = queue.PriorityQueue()\n",
    "\n",
    "pq.put((2,hard_state))\n"
   ]
  },
  {
   "cell_type": "code",
   "execution_count": 126,
   "metadata": {
    "collapsed": true
   },
   "outputs": [],
   "source": [
    "pq.put((2,hard_state))"
   ]
  },
  {
   "cell_type": "code",
   "execution_count": 127,
   "metadata": {
    "collapsed": true
   },
   "outputs": [],
   "source": [
    "pq.put((2,hard_state))"
   ]
  },
  {
   "cell_type": "code",
   "execution_count": 134,
   "metadata": {
    "collapsed": true
   },
   "outputs": [],
   "source": [
    "pq.put((4,hard_state))"
   ]
  },
  {
   "cell_type": "code",
   "execution_count": 135,
   "metadata": {
    "collapsed": true
   },
   "outputs": [],
   "source": [
    "pq.put((4,child.config))"
   ]
  },
  {
   "cell_type": "code",
   "execution_count": null,
   "metadata": {
    "collapsed": true
   },
   "outputs": [],
   "source": []
  },
  {
   "cell_type": "code",
   "execution_count": 130,
   "metadata": {
    "collapsed": true
   },
   "outputs": [],
   "source": [
    "children = hard_state.expand()"
   ]
  },
  {
   "cell_type": "code",
   "execution_count": 131,
   "metadata": {
    "collapsed": true
   },
   "outputs": [],
   "source": [
    "child = children[1]"
   ]
  },
  {
   "cell_type": "code",
   "execution_count": 132,
   "metadata": {},
   "outputs": [
    {
     "data": {
      "text/plain": [
       "(3, 0, 1, 2)"
      ]
     },
     "execution_count": 132,
     "metadata": {},
     "output_type": "execute_result"
    }
   ],
   "source": [
    "child.config"
   ]
  },
  {
   "cell_type": "code",
   "execution_count": 133,
   "metadata": {},
   "outputs": [
    {
     "data": {
      "text/plain": [
       "(0, 3, 1, 2)"
      ]
     },
     "execution_count": 133,
     "metadata": {},
     "output_type": "execute_result"
    }
   ],
   "source": [
    "hard_state.config"
   ]
  },
  {
   "cell_type": "code",
   "execution_count": null,
   "metadata": {
    "collapsed": true
   },
   "outputs": [],
   "source": []
  },
  {
   "cell_type": "code",
   "execution_count": 121,
   "metadata": {},
   "outputs": [
    {
     "name": "stdout",
     "output_type": "stream",
     "text": [
      "<__main__.PuzzleState object at 0x108494748>\n",
      "1\n",
      "<__main__.PuzzleState object at 0x108494748>\n",
      "2\n",
      "<__main__.PuzzleState object at 0x108494748>\n",
      "4\n",
      "<__main__.PuzzleState object at 0x108494748>\n",
      "235\n",
      "<__main__.PuzzleState object at 0x108494748>\n",
      "1252\n"
     ]
    }
   ],
   "source": [
    "obj,dist =  pq.get()\n",
    "\n",
    "print(obj)\n",
    "print(dist)\n",
    "\n",
    "obj,dist =  pq.get()\n",
    "\n",
    "print(obj)\n",
    "print(dist)\n",
    "\n",
    "obj,dist =  pq.get()\n",
    "\n",
    "print(obj)\n",
    "print(dist)\n",
    "\n",
    "obj,dist =  pq.get()\n",
    "\n",
    "print(obj)\n",
    "print(dist)\n",
    "\n",
    "obj,dist =  pq.get()\n",
    "\n",
    "print(obj)\n",
    "print(dist)\n"
   ]
  },
  {
   "cell_type": "code",
   "execution_count": 122,
   "metadata": {},
   "outputs": [
    {
     "data": {
      "text/plain": [
       "(<__main__.PuzzleState at 0x108494748>, 52452)"
      ]
     },
     "execution_count": 122,
     "metadata": {},
     "output_type": "execute_result"
    }
   ],
   "source": [
    "pq.get()"
   ]
  },
  {
   "cell_type": "code",
   "execution_count": 123,
   "metadata": {},
   "outputs": [
    {
     "ename": "KeyboardInterrupt",
     "evalue": "",
     "output_type": "error",
     "traceback": [
      "\u001b[0;31m---------------------------------------------------------------------------\u001b[0m",
      "\u001b[0;31mKeyboardInterrupt\u001b[0m                         Traceback (most recent call last)",
      "\u001b[0;32m<ipython-input-123-f7fa82f00cd1>\u001b[0m in \u001b[0;36m<module>\u001b[0;34m()\u001b[0m\n\u001b[0;32m----> 1\u001b[0;31m \u001b[0mpq\u001b[0m\u001b[0;34m.\u001b[0m\u001b[0mget\u001b[0m\u001b[0;34m(\u001b[0m\u001b[0;34m)\u001b[0m\u001b[0;34m\u001b[0m\u001b[0m\n\u001b[0m",
      "\u001b[0;32m~/anaconda3/lib/python3.6/queue.py\u001b[0m in \u001b[0;36mget\u001b[0;34m(self, block, timeout)\u001b[0m\n\u001b[1;32m    162\u001b[0m             \u001b[0;32melif\u001b[0m \u001b[0mtimeout\u001b[0m \u001b[0;32mis\u001b[0m \u001b[0;32mNone\u001b[0m\u001b[0;34m:\u001b[0m\u001b[0;34m\u001b[0m\u001b[0m\n\u001b[1;32m    163\u001b[0m                 \u001b[0;32mwhile\u001b[0m \u001b[0;32mnot\u001b[0m \u001b[0mself\u001b[0m\u001b[0;34m.\u001b[0m\u001b[0m_qsize\u001b[0m\u001b[0;34m(\u001b[0m\u001b[0;34m)\u001b[0m\u001b[0;34m:\u001b[0m\u001b[0;34m\u001b[0m\u001b[0m\n\u001b[0;32m--> 164\u001b[0;31m                     \u001b[0mself\u001b[0m\u001b[0;34m.\u001b[0m\u001b[0mnot_empty\u001b[0m\u001b[0;34m.\u001b[0m\u001b[0mwait\u001b[0m\u001b[0;34m(\u001b[0m\u001b[0;34m)\u001b[0m\u001b[0;34m\u001b[0m\u001b[0m\n\u001b[0m\u001b[1;32m    165\u001b[0m             \u001b[0;32melif\u001b[0m \u001b[0mtimeout\u001b[0m \u001b[0;34m<\u001b[0m \u001b[0;36m0\u001b[0m\u001b[0;34m:\u001b[0m\u001b[0;34m\u001b[0m\u001b[0m\n\u001b[1;32m    166\u001b[0m                 \u001b[0;32mraise\u001b[0m \u001b[0mValueError\u001b[0m\u001b[0;34m(\u001b[0m\u001b[0;34m\"'timeout' must be a non-negative number\"\u001b[0m\u001b[0;34m)\u001b[0m\u001b[0;34m\u001b[0m\u001b[0m\n",
      "\u001b[0;32m~/anaconda3/lib/python3.6/threading.py\u001b[0m in \u001b[0;36mwait\u001b[0;34m(self, timeout)\u001b[0m\n\u001b[1;32m    293\u001b[0m         \u001b[0;32mtry\u001b[0m\u001b[0;34m:\u001b[0m    \u001b[0;31m# restore state no matter what (e.g., KeyboardInterrupt)\u001b[0m\u001b[0;34m\u001b[0m\u001b[0m\n\u001b[1;32m    294\u001b[0m             \u001b[0;32mif\u001b[0m \u001b[0mtimeout\u001b[0m \u001b[0;32mis\u001b[0m \u001b[0;32mNone\u001b[0m\u001b[0;34m:\u001b[0m\u001b[0;34m\u001b[0m\u001b[0m\n\u001b[0;32m--> 295\u001b[0;31m                 \u001b[0mwaiter\u001b[0m\u001b[0;34m.\u001b[0m\u001b[0macquire\u001b[0m\u001b[0;34m(\u001b[0m\u001b[0;34m)\u001b[0m\u001b[0;34m\u001b[0m\u001b[0m\n\u001b[0m\u001b[1;32m    296\u001b[0m                 \u001b[0mgotit\u001b[0m \u001b[0;34m=\u001b[0m \u001b[0;32mTrue\u001b[0m\u001b[0;34m\u001b[0m\u001b[0m\n\u001b[1;32m    297\u001b[0m             \u001b[0;32melse\u001b[0m\u001b[0;34m:\u001b[0m\u001b[0;34m\u001b[0m\u001b[0m\n",
      "\u001b[0;31mKeyboardInterrupt\u001b[0m: "
     ]
    }
   ],
   "source": [
    "pq.get()"
   ]
  },
  {
   "cell_type": "code",
   "execution_count": 118,
   "metadata": {},
   "outputs": [
    {
     "ename": "TypeError",
     "evalue": "'int' object is not iterable",
     "output_type": "error",
     "traceback": [
      "\u001b[0;31m---------------------------------------------------------------------------\u001b[0m",
      "\u001b[0;31mTypeError\u001b[0m                                 Traceback (most recent call last)",
      "\u001b[0;32m<ipython-input-118-399b17f3d4fc>\u001b[0m in \u001b[0;36m<module>\u001b[0;34m()\u001b[0m\n\u001b[0;32m----> 1\u001b[0;31m \u001b[0mheapq\u001b[0m\u001b[0;34m.\u001b[0m\u001b[0mnlargest\u001b[0m\u001b[0;34m(\u001b[0m\u001b[0;36m1\u001b[0m\u001b[0;34m,\u001b[0m\u001b[0;36m3\u001b[0m\u001b[0;34m)\u001b[0m\u001b[0;34m\u001b[0m\u001b[0m\n\u001b[0m",
      "\u001b[0;32m~/anaconda3/lib/python3.6/heapq.py\u001b[0m in \u001b[0;36mnlargest\u001b[0;34m(n, iterable, key)\u001b[0m\n\u001b[1;32m    530\u001b[0m     \u001b[0;31m# Short-cut for n==1 is to use max()\u001b[0m\u001b[0;34m\u001b[0m\u001b[0;34m\u001b[0m\u001b[0m\n\u001b[1;32m    531\u001b[0m     \u001b[0;32mif\u001b[0m \u001b[0mn\u001b[0m \u001b[0;34m==\u001b[0m \u001b[0;36m1\u001b[0m\u001b[0;34m:\u001b[0m\u001b[0;34m\u001b[0m\u001b[0m\n\u001b[0;32m--> 532\u001b[0;31m         \u001b[0mit\u001b[0m \u001b[0;34m=\u001b[0m \u001b[0miter\u001b[0m\u001b[0;34m(\u001b[0m\u001b[0miterable\u001b[0m\u001b[0;34m)\u001b[0m\u001b[0;34m\u001b[0m\u001b[0m\n\u001b[0m\u001b[1;32m    533\u001b[0m         \u001b[0msentinel\u001b[0m \u001b[0;34m=\u001b[0m \u001b[0mobject\u001b[0m\u001b[0;34m(\u001b[0m\u001b[0;34m)\u001b[0m\u001b[0;34m\u001b[0m\u001b[0m\n\u001b[1;32m    534\u001b[0m         \u001b[0;32mif\u001b[0m \u001b[0mkey\u001b[0m \u001b[0;32mis\u001b[0m \u001b[0;32mNone\u001b[0m\u001b[0;34m:\u001b[0m\u001b[0;34m\u001b[0m\u001b[0m\n",
      "\u001b[0;31mTypeError\u001b[0m: 'int' object is not iterable"
     ]
    }
   ],
   "source": [
    "heapq.nlargest(1,3)"
   ]
  },
  {
   "cell_type": "code",
   "execution_count": null,
   "metadata": {
    "collapsed": true
   },
   "outputs": [],
   "source": []
  },
  {
   "cell_type": "code",
   "execution_count": null,
   "metadata": {
    "collapsed": true
   },
   "outputs": [],
   "source": []
  },
  {
   "cell_type": "code",
   "execution_count": 60,
   "metadata": {},
   "outputs": [
    {
     "data": {
      "text/plain": [
       "4"
      ]
     },
     "execution_count": 60,
     "metadata": {},
     "output_type": "execute_result"
    }
   ],
   "source": [
    "calculate_manhattan_dist(hard_state.config,n)"
   ]
  },
  {
   "cell_type": "code",
   "execution_count": null,
   "metadata": {
    "collapsed": true
   },
   "outputs": [],
   "source": []
  },
  {
   "cell_type": "code",
   "execution_count": null,
   "metadata": {
    "collapsed": true
   },
   "outputs": [],
   "source": []
  },
  {
   "cell_type": "code",
   "execution_count": null,
   "metadata": {
    "collapsed": true
   },
   "outputs": [],
   "source": []
  },
  {
   "cell_type": "code",
   "execution_count": null,
   "metadata": {
    "collapsed": true
   },
   "outputs": [],
   "source": []
  },
  {
   "cell_type": "code",
   "execution_count": null,
   "metadata": {
    "collapsed": true
   },
   "outputs": [],
   "source": []
  },
  {
   "cell_type": "code",
   "execution_count": null,
   "metadata": {
    "collapsed": true
   },
   "outputs": [],
   "source": []
  },
  {
   "cell_type": "code",
   "execution_count": null,
   "metadata": {
    "collapsed": true
   },
   "outputs": [],
   "source": []
  },
  {
   "cell_type": "code",
   "execution_count": null,
   "metadata": {
    "collapsed": true
   },
   "outputs": [],
   "source": []
  },
  {
   "cell_type": "code",
   "execution_count": null,
   "metadata": {
    "collapsed": true
   },
   "outputs": [],
   "source": []
  },
  {
   "cell_type": "code",
   "execution_count": null,
   "metadata": {
    "collapsed": true
   },
   "outputs": [],
   "source": []
  },
  {
   "cell_type": "code",
   "execution_count": null,
   "metadata": {
    "collapsed": true
   },
   "outputs": [],
   "source": []
  }
 ],
 "metadata": {
  "kernelspec": {
   "display_name": "Python 3",
   "language": "python",
   "name": "python3"
  },
  "language_info": {
   "codemirror_mode": {
    "name": "ipython",
    "version": 3
   },
   "file_extension": ".py",
   "mimetype": "text/x-python",
   "name": "python",
   "nbconvert_exporter": "python",
   "pygments_lexer": "ipython3",
   "version": "3.6.6"
  }
 },
 "nbformat": 4,
 "nbformat_minor": 2
}
